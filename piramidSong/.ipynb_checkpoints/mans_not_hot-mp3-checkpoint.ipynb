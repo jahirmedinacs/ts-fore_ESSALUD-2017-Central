{
 "cells": [
  {
   "cell_type": "code",
   "execution_count": 2,
   "metadata": {},
   "outputs": [],
   "source": [
    "import numpy as np\n",
    "import pandas as pd\n",
    "from matplotlib import pyplot as plt\n",
    "\n",
    "from copy import copy as copy\n",
    "from pprint import pprint as pprint"
   ]
  },
  {
   "cell_type": "markdown",
   "metadata": {},
   "source": [
    "# Analisis de Fourier Dinamico (Series de tiempo Estaticas o Pseudo Estaticas) \n",
    "\n",
    "___\n",
    "\n",
    "![](deeperdaddy.png)\n",
    "\n",
    "[![QUICK MATHS](https://www.strangerdimensions.com/wp-content/uploads/2012/10/minecraftnetherportal.jpg)](https://www.youtube.com/watch?v=3M_5oYU-IsU)\n",
    "\n",
    "___\n"
   ]
  },
  {
   "cell_type": "code",
   "execution_count": null,
   "metadata": {},
   "outputs": [],
   "source": []
  },
  {
   "cell_type": "markdown",
   "metadata": {},
   "source": [
    "Analizaremos 2 canciones:\n",
    "\n",
    "# The Pyramid Song , RadioHead\n",
    "\n",
    "[![The Pyramid Song](https://i.ytimg.com/vi/5Z08Ux8xnWI/maxresdefault.jpg)](https://www.youtube.com/watch?v=3M_Gg1xAHE4)\n",
    "\n",
    "# Que Calor, J Balvin\n",
    "\n",
    "[![KeKa , Khe Kalor](https://encrypted-tbn0.gstatic.com/images?q=tbn%3AANd9GcTS8zTHPMjqT_EA3KUTN88b3gQHDyC3Hy8uOUoJ2OjneoQXksFN)](https://www.youtube.com/watch?v=ZBBS4imv1qo)\n"
   ]
  },
  {
   "cell_type": "markdown",
   "metadata": {},
   "source": [
    "## Cargando las canciones y Extrayendo sus frecuencias"
   ]
  },
  {
   "cell_type": "code",
   "execution_count": null,
   "metadata": {},
   "outputs": [],
   "source": []
  }
 ],
 "metadata": {
  "kernelspec": {
   "display_name": "Python 3",
   "language": "python",
   "name": "python3"
  },
  "language_info": {
   "codemirror_mode": {
    "name": "ipython",
    "version": 3
   },
   "file_extension": ".py",
   "mimetype": "text/x-python",
   "name": "python",
   "nbconvert_exporter": "python",
   "pygments_lexer": "ipython3",
   "version": "3.7.3"
  }
 },
 "nbformat": 4,
 "nbformat_minor": 2
}
