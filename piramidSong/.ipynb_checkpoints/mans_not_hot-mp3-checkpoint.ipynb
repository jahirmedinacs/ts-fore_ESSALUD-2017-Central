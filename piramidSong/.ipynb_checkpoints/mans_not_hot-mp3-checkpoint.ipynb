{
 "cells": [
  {
   "cell_type": "code",
   "execution_count": 1,
   "metadata": {},
   "outputs": [],
   "source": [
    "import numpy as np\n",
    "import pandas as pd\n",
    "from matplotlib import pyplot as plt\n",
    "\n",
    "from copy import copy as copy\n",
    "from pprint import pprint as pprint"
   ]
  },
  {
   "cell_type": "markdown",
   "metadata": {},
   "source": [
    "# Analisis de Fourier Dinamico (Series de tiempo Estaticas o Pseudo Estaticas) \n",
    "\n",
    "___\n",
    "\n",
    "![](deeperdaddy.png)\n",
    "\n",
    "[![QUICK MATHS](https://www.strangerdimensions.com/wp-content/uploads/2012/10/minecraftnetherportal.jpg)](https://www.youtube.com/watch?v=3M_5oYU-IsU)\n",
    "\n",
    "___\n"
   ]
  },
  {
   "cell_type": "code",
   "execution_count": null,
   "metadata": {},
   "outputs": [],
   "source": []
  },
  {
   "cell_type": "markdown",
   "metadata": {},
   "source": [
    "Analizaremos 2 canciones:\n",
    "\n",
    "# The Pyramid Song , RadioHead\n",
    "\n",
    "[![The Pyramid Song](https://i.ytimg.com/vi/5Z08Ux8xnWI/maxresdefault.jpg)](https://www.youtube.com/watch?v=3M_Gg1xAHE4)\n",
    "\n",
    "# Que Calor, J Balvin\n",
    "\n",
    "[![KeKa , Khe Kalor](https://encrypted-tbn0.gstatic.com/images?q=tbn%3AANd9GcTS8zTHPMjqT_EA3KUTN88b3gQHDyC3Hy8uOUoJ2OjneoQXksFN)](https://www.youtube.com/watch?v=ZBBS4imv1qo)\n"
   ]
  },
  {
   "cell_type": "markdown",
   "metadata": {},
   "source": [
    "## Cargando las canciones y Extrayendo sus frecuencias"
   ]
  },
  {
   "cell_type": "code",
   "execution_count": 2,
   "metadata": {},
   "outputs": [],
   "source": [
    "pyramid = pd.read_csv(\"./data/pyramid_song.csv\", sep=\"\\t\")"
   ]
  },
  {
   "cell_type": "code",
   "execution_count": 3,
   "metadata": {},
   "outputs": [],
   "source": [
    "kekalor = pd.read_csv(\"./data/keka_kalor.csv\", sep=\"\\t\")"
   ]
  },
  {
   "cell_type": "code",
   "execution_count": 9,
   "metadata": {},
   "outputs": [],
   "source": [
    "partial = pyramid.shape[0]//10\n",
    "pyramid[2 * partial : 3 * partial ].to_csv(\"./data/pyramid_song-parcial.csv\")"
   ]
  },
  {
   "cell_type": "code",
   "execution_count": 10,
   "metadata": {},
   "outputs": [],
   "source": [
    "partial = kekalor.shape[0]//10\n",
    "kekalor[2 * partial : 3 * partial ].to_csv(\"./data/keka_kalor-parcial.csv\")"
   ]
  },
  {
   "cell_type": "code",
   "execution_count": 11,
   "metadata": {},
   "outputs": [
    {
     "name": "stdout",
     "output_type": "stream",
     "text": [
      "total 458M\r\n",
      "drwxr-xr-x 4 jahirmedinacs jahirmedinacs 4.0K Nov 27 05:48 .\r\n",
      "drwxr-xr-x 4 jahirmedinacs jahirmedinacs 4.0K Nov 27 05:48 ..\r\n",
      "drwxr-xr-x 2 jahirmedinacs jahirmedinacs 4.0K Nov 27 05:03 .ipynb_checkpoints\r\n",
      "-rw-r--r-- 1 jahirmedinacs jahirmedinacs 3.5M Nov 27 05:03 Que Calor - Major Lazer, J Balvin, El Alfa (REMAKE + INSTRUMENTAL + FLP) 2019.mp3\r\n",
      "-rw-r--r-- 1 jahirmedinacs jahirmedinacs 6.6M Nov 27 05:03 Radiohead - Pyramid Song [ karaoke version with lyrics ].mp3\r\n",
      "-rwxr-xr-x 1 jahirmedinacs jahirmedinacs  239 Nov 27 05:03 convertWav.sh\r\n",
      "drwxr-xr-x 3 jahirmedinacs jahirmedinacs 4.0K Nov 27 05:03 datalib\r\n",
      "-rw-r--r-- 1 jahirmedinacs jahirmedinacs  52M Nov 27 05:49 keka_kalor.csv\r\n",
      "-rw-r--r-- 1 jahirmedinacs jahirmedinacs  26M Nov 27 05:18 keka_kalor.wav\r\n",
      "-rw-r--r-- 1 jahirmedinacs jahirmedinacs  180 Nov 27 05:23 meta_sound_data.csv\r\n",
      "-rw-r--r-- 1 jahirmedinacs jahirmedinacs 9.5K Nov 27 05:26 part 1.ipynb\r\n",
      "-rw-r--r-- 1 jahirmedinacs jahirmedinacs  97M Nov 27 05:48 pyramid_song-parcial.csv\r\n",
      "-rw-r--r-- 1 jahirmedinacs jahirmedinacs 226M Nov 27 05:23 pyramid_song.csv\r\n",
      "-rw-r--r-- 1 jahirmedinacs jahirmedinacs  49M Nov 27 05:18 pyramid_song.wav\r\n"
     ]
    }
   ],
   "source": [
    "!ls -lah ./data"
   ]
  },
  {
   "cell_type": "code",
   "execution_count": null,
   "metadata": {},
   "outputs": [],
   "source": []
  }
 ],
 "metadata": {
  "kernelspec": {
   "display_name": "Python 3",
   "language": "python",
   "name": "python3"
  },
  "language_info": {
   "codemirror_mode": {
    "name": "ipython",
    "version": 3
   },
   "file_extension": ".py",
   "mimetype": "text/x-python",
   "name": "python",
   "nbconvert_exporter": "python",
   "pygments_lexer": "ipython3",
   "version": "3.5.3"
  }
 },
 "nbformat": 4,
 "nbformat_minor": 2
}
