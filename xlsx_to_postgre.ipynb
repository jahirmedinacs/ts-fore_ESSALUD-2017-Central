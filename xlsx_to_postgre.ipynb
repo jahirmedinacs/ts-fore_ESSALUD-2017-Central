{
 "cells": [
  {
   "cell_type": "code",
   "execution_count": 30,
   "metadata": {},
   "outputs": [],
   "source": [
    "import numpy as np\n",
    "import pandas as pd\n",
    "from matplotlib import pyplot as plt\n",
    "\n",
    "from copy import copy as copy"
   ]
  },
  {
   "cell_type": "code",
   "execution_count": 31,
   "metadata": {},
   "outputs": [],
   "source": [
    "# dirty_data = pd.read_excel('./DATA_98.xlsx')\n",
    "# dirty_data = dirty_data[dirty_data.columns[1:]]\n",
    "# dirty_data.to_csv('./DATA_98.csv')"
   ]
  },
  {
   "cell_type": "code",
   "execution_count": 32,
   "metadata": {},
   "outputs": [],
   "source": [
    "dirty_data = pd.read_csv('./DATA_98.csv')\n",
    "dirty_data = dirty_data[dirty_data.columns[1:]]"
   ]
  },
  {
   "cell_type": "code",
   "execution_count": null,
   "metadata": {},
   "outputs": [],
   "source": []
  },
  {
   "cell_type": "code",
   "execution_count": null,
   "metadata": {},
   "outputs": [],
   "source": []
  },
  {
   "cell_type": "code",
   "execution_count": null,
   "metadata": {},
   "outputs": [],
   "source": []
  },
  {
   "cell_type": "code",
   "execution_count": 33,
   "metadata": {
    "scrolled": false
   },
   "outputs": [],
   "source": [
    "def clean_hours(str_hour):\n",
    "    \n",
    "    current = str_hour.split(\" \")\n",
    "    output = str_hour\n",
    "    \n",
    "    if len(current) > 1:\n",
    "        if current[1] == 'AM':\n",
    "            output = current[0]\n",
    "        elif current[1] == 'PM':\n",
    "            tmp = current[0].split(\":\")\n",
    "            if len(tmp) > 1:\n",
    "                tmp[0] = str( (int(tmp[0]) % 12) + 12)\n",
    "                output = \":\".join(tmp)\n",
    "        else:\n",
    "            pass\n",
    "    else:\n",
    "        pass\n",
    "    \n",
    "    tmp_out = output.split(\":\")\n",
    "    \n",
    "    if len(tmp_out) == 3:\n",
    "        if len(tmp_out[0]) == 0:\n",
    "            output = \":\".join(tmp_out[1:3])\n",
    "        else:\n",
    "            if int(tmp_out[2]) == 0:\n",
    "                output = \":\".join(tmp_out[:2])\n",
    "    \n",
    "    return output"
   ]
  },
  {
   "cell_type": "code",
   "execution_count": 34,
   "metadata": {},
   "outputs": [
    {
     "data": {
      "text/plain": [
       "Index(['date', 'ord', 't_i', 'd_v', 'di', 'motive', 'd_e', 't_o', 'piso'], dtype='object')"
      ]
     },
     "execution_count": 34,
     "metadata": {},
     "output_type": "execute_result"
    }
   ],
   "source": [
    "dirty_data.columns"
   ]
  },
  {
   "cell_type": "code",
   "execution_count": 35,
   "metadata": {
    "scrolled": false
   },
   "outputs": [],
   "source": [
    "vals = dirty_data.t_i.values.tolist()\n",
    "new_vals = [None] * len(vals)\n",
    "\n",
    "for ii in range(len(vals)):\n",
    "    new_vals[ii] = clean_hours(vals[ii])\n",
    "\n",
    "dirty_data.t_i = new_vals"
   ]
  },
  {
   "cell_type": "code",
   "execution_count": 36,
   "metadata": {
    "scrolled": false
   },
   "outputs": [],
   "source": [
    "vals = dirty_data.t_o.values.tolist()\n",
    "new_vals = [None] * len(vals)\n",
    "\n",
    "for ii in range(len(vals)):\n",
    "    new_vals[ii] = clean_hours(vals[ii])\n",
    "\n",
    "dirty_data.t_o = new_vals"
   ]
  },
  {
   "cell_type": "code",
   "execution_count": 37,
   "metadata": {
    "scrolled": false
   },
   "outputs": [
    {
     "data": {
      "text/plain": [
       "array(['6', '7', '8', '5', 'S1', '1', '2', '9', '4', '5t', 'S2',\n",
       "       '12:45:00 PM', 'SI', '54', 'TODOS', '21', 'H', '´6', '3', '|',\n",
       "       'S1 ', '144:00:00', '87', '63', '.+', '25', '85', 'SOT1', 'S|',\n",
       "       '65', '0', '14', '6+', '66', 'S', 'S11', '}}', 'S|1', '.', 'STI'],\n",
       "      dtype=object)"
      ]
     },
     "execution_count": 37,
     "metadata": {},
     "output_type": "execute_result"
    }
   ],
   "source": [
    "dirty_data.piso.unique()"
   ]
  },
  {
   "cell_type": "code",
   "execution_count": 40,
   "metadata": {
    "scrolled": false
   },
   "outputs": [
    {
     "data": {
      "text/html": [
       "<div>\n",
       "<style scoped>\n",
       "    .dataframe tbody tr th:only-of-type {\n",
       "        vertical-align: middle;\n",
       "    }\n",
       "\n",
       "    .dataframe tbody tr th {\n",
       "        vertical-align: top;\n",
       "    }\n",
       "\n",
       "    .dataframe thead th {\n",
       "        text-align: right;\n",
       "    }\n",
       "</style>\n",
       "<table border=\"1\" class=\"dataframe\">\n",
       "  <thead>\n",
       "    <tr style=\"text-align: right;\">\n",
       "      <th></th>\n",
       "      <th>date</th>\n",
       "      <th>ord</th>\n",
       "      <th>t_i</th>\n",
       "      <th>d_v</th>\n",
       "      <th>di</th>\n",
       "      <th>motive</th>\n",
       "      <th>d_e</th>\n",
       "      <th>t_o</th>\n",
       "      <th>piso</th>\n",
       "    </tr>\n",
       "  </thead>\n",
       "  <tbody>\n",
       "    <tr>\n",
       "      <th>0</th>\n",
       "      <td>2017-01-2</td>\n",
       "      <td>1</td>\n",
       "      <td>08:10</td>\n",
       "      <td>PIERRE PONCE RUIZ</td>\n",
       "      <td>43268808</td>\n",
       "      <td>REUNION DE TRABAJO</td>\n",
       "      <td>JOSELYN SOLIS</td>\n",
       "      <td>17:34</td>\n",
       "      <td>6</td>\n",
       "    </tr>\n",
       "    <tr>\n",
       "      <th>1</th>\n",
       "      <td>2017-01-2</td>\n",
       "      <td>2</td>\n",
       "      <td>08:20</td>\n",
       "      <td>ERICK BONILLA ANDRADE</td>\n",
       "      <td>9326434</td>\n",
       "      <td>PYT</td>\n",
       "      <td>LUIS PEREZ</td>\n",
       "      <td>09:15</td>\n",
       "      <td>6</td>\n",
       "    </tr>\n",
       "    <tr>\n",
       "      <th>2</th>\n",
       "      <td>2017-01-2</td>\n",
       "      <td>3</td>\n",
       "      <td>08:27</td>\n",
       "      <td>ROCIO MORALES BENDEZU</td>\n",
       "      <td>8637254</td>\n",
       "      <td>PADOMI</td>\n",
       "      <td>CARLA URDIALES</td>\n",
       "      <td>08:50</td>\n",
       "      <td>7</td>\n",
       "    </tr>\n",
       "    <tr>\n",
       "      <th>3</th>\n",
       "      <td>2017-01-2</td>\n",
       "      <td>4</td>\n",
       "      <td>08:50</td>\n",
       "      <td>ISAIAS CORZO GARCIA</td>\n",
       "      <td>45482311</td>\n",
       "      <td>PERSONANAL</td>\n",
       "      <td>MARIA MARAVI</td>\n",
       "      <td>19:48</td>\n",
       "      <td>6</td>\n",
       "    </tr>\n",
       "    <tr>\n",
       "      <th>4</th>\n",
       "      <td>2017-01-2</td>\n",
       "      <td>5</td>\n",
       "      <td>08:52</td>\n",
       "      <td>JUAN DAVILA ARTANGO</td>\n",
       "      <td>41414725</td>\n",
       "      <td>REUNION DE TRABAJO</td>\n",
       "      <td>SERGIO MACHADO</td>\n",
       "      <td>10:40</td>\n",
       "      <td>8</td>\n",
       "    </tr>\n",
       "    <tr>\n",
       "      <th>...</th>\n",
       "      <td>...</td>\n",
       "      <td>...</td>\n",
       "      <td>...</td>\n",
       "      <td>...</td>\n",
       "      <td>...</td>\n",
       "      <td>...</td>\n",
       "      <td>...</td>\n",
       "      <td>...</td>\n",
       "      <td>...</td>\n",
       "    </tr>\n",
       "    <tr>\n",
       "      <th>17846</th>\n",
       "      <td>2017-12-29</td>\n",
       "      <td>64</td>\n",
       "      <td>15:40</td>\n",
       "      <td>KORINA RAMOS SALAZAR</td>\n",
       "      <td>42156972</td>\n",
       "      <td>VIR Y COR</td>\n",
       "      <td>JELGA ALBUJAR</td>\n",
       "      <td>16:00</td>\n",
       "      <td>S1</td>\n",
       "    </tr>\n",
       "    <tr>\n",
       "      <th>17847</th>\n",
       "      <td>2017-12-29</td>\n",
       "      <td>65</td>\n",
       "      <td>15:45</td>\n",
       "      <td>NELLY ROJAS RUMRRILL</td>\n",
       "      <td>36007556</td>\n",
       "      <td>INS</td>\n",
       "      <td>FLOR GARCIA</td>\n",
       "      <td>16:37</td>\n",
       "      <td>6</td>\n",
       "    </tr>\n",
       "    <tr>\n",
       "      <th>17848</th>\n",
       "      <td>2017-12-29</td>\n",
       "      <td>66</td>\n",
       "      <td>15:53</td>\n",
       "      <td>LUCRECI LAZARO VALENCIA</td>\n",
       "      <td>10627319</td>\n",
       "      <td>PERSONAL</td>\n",
       "      <td>ELIZABETH IBAÑEZ</td>\n",
       "      <td>17:17</td>\n",
       "      <td>8</td>\n",
       "    </tr>\n",
       "    <tr>\n",
       "      <th>17849</th>\n",
       "      <td>2017-12-29</td>\n",
       "      <td>67</td>\n",
       "      <td>16:12</td>\n",
       "      <td>MARLENE FALERA RIPAS</td>\n",
       "      <td>7127045</td>\n",
       "      <td>PERTSONAL</td>\n",
       "      <td>LUZ GARDA QUILLAMA</td>\n",
       "      <td>16:35</td>\n",
       "      <td>6</td>\n",
       "    </tr>\n",
       "    <tr>\n",
       "      <th>17850</th>\n",
       "      <td>2017-12-29</td>\n",
       "      <td>68</td>\n",
       "      <td>17:12</td>\n",
       "      <td>CARMEN CAMPOS VASQUEZ</td>\n",
       "      <td>40700173</td>\n",
       "      <td>PERSONAL</td>\n",
       "      <td>MARIA MARAVI</td>\n",
       "      <td>17:37</td>\n",
       "      <td>1</td>\n",
       "    </tr>\n",
       "  </tbody>\n",
       "</table>\n",
       "<p>17851 rows × 9 columns</p>\n",
       "</div>"
      ],
      "text/plain": [
       "             date ord    t_i                      d_v        di  \\\n",
       "0       2017-01-2   1  08:10        PIERRE PONCE RUIZ  43268808   \n",
       "1       2017-01-2   2  08:20    ERICK BONILLA ANDRADE   9326434   \n",
       "2       2017-01-2   3  08:27    ROCIO MORALES BENDEZU   8637254   \n",
       "3       2017-01-2   4  08:50      ISAIAS CORZO GARCIA  45482311   \n",
       "4       2017-01-2   5  08:52      JUAN DAVILA ARTANGO  41414725   \n",
       "...           ...  ..    ...                      ...       ...   \n",
       "17846  2017-12-29  64  15:40     KORINA RAMOS SALAZAR  42156972   \n",
       "17847  2017-12-29  65  15:45     NELLY ROJAS RUMRRILL  36007556   \n",
       "17848  2017-12-29  66  15:53  LUCRECI LAZARO VALENCIA  10627319   \n",
       "17849  2017-12-29  67  16:12     MARLENE FALERA RIPAS   7127045   \n",
       "17850  2017-12-29  68  17:12    CARMEN CAMPOS VASQUEZ  40700173   \n",
       "\n",
       "                   motive                 d_e    t_o piso  \n",
       "0      REUNION DE TRABAJO       JOSELYN SOLIS  17:34    6  \n",
       "1                     PYT          LUIS PEREZ  09:15    6  \n",
       "2                  PADOMI      CARLA URDIALES  08:50    7  \n",
       "3              PERSONANAL        MARIA MARAVI  19:48    6  \n",
       "4      REUNION DE TRABAJO      SERGIO MACHADO  10:40    8  \n",
       "...                   ...                 ...    ...  ...  \n",
       "17846           VIR Y COR       JELGA ALBUJAR  16:00   S1  \n",
       "17847                 INS         FLOR GARCIA  16:37    6  \n",
       "17848            PERSONAL    ELIZABETH IBAÑEZ  17:17    8  \n",
       "17849           PERTSONAL  LUZ GARDA QUILLAMA  16:35    6  \n",
       "17850            PERSONAL        MARIA MARAVI  17:37    1  \n",
       "\n",
       "[17851 rows x 9 columns]"
      ]
     },
     "execution_count": 40,
     "metadata": {},
     "output_type": "execute_result"
    }
   ],
   "source": [
    "dirty_data"
   ]
  },
  {
   "cell_type": "code",
   "execution_count": 58,
   "metadata": {},
   "outputs": [],
   "source": [
    "motives = pd.DataFrame(dirty_data.motive.value_counts())\n",
    "visitant = pd.DataFrame(dirty_data.d_v.value_counts())\n",
    "destinant = pd.DataFrame(dirty_data.d_e.value_counts())"
   ]
  },
  {
   "cell_type": "code",
   "execution_count": 60,
   "metadata": {},
   "outputs": [
    {
     "data": {
      "text/html": [
       "<div>\n",
       "<style scoped>\n",
       "    .dataframe tbody tr th:only-of-type {\n",
       "        vertical-align: middle;\n",
       "    }\n",
       "\n",
       "    .dataframe tbody tr th {\n",
       "        vertical-align: top;\n",
       "    }\n",
       "\n",
       "    .dataframe thead th {\n",
       "        text-align: right;\n",
       "    }\n",
       "</style>\n",
       "<table border=\"1\" class=\"dataframe\">\n",
       "  <thead>\n",
       "    <tr style=\"text-align: right;\">\n",
       "      <th></th>\n",
       "      <th>motive</th>\n",
       "    </tr>\n",
       "  </thead>\n",
       "  <tbody>\n",
       "    <tr>\n",
       "      <th>,ABORAL</th>\n",
       "      <td>1</td>\n",
       "    </tr>\n",
       "    <tr>\n",
       "      <th>10487945</th>\n",
       "      <td>1</td>\n",
       "    </tr>\n",
       "    <tr>\n",
       "      <th>24 . 27</th>\n",
       "      <td>3</td>\n",
       "    </tr>\n",
       "    <tr>\n",
       "      <th>24 27</th>\n",
       "      <td>1</td>\n",
       "    </tr>\n",
       "    <tr>\n",
       "      <th>24.27</th>\n",
       "      <td>2</td>\n",
       "    </tr>\n",
       "    <tr>\n",
       "      <th>...</th>\n",
       "      <td>...</td>\n",
       "    </tr>\n",
       "    <tr>\n",
       "      <th>personal</th>\n",
       "      <td>1</td>\n",
       "    </tr>\n",
       "    <tr>\n",
       "      <th>}</th>\n",
       "      <td>1</td>\n",
       "    </tr>\n",
       "    <tr>\n",
       "      <th>´PERSONAL</th>\n",
       "      <td>4</td>\n",
       "    </tr>\n",
       "    <tr>\n",
       "      <th>´PERTSONAL</th>\n",
       "      <td>1</td>\n",
       "    </tr>\n",
       "    <tr>\n",
       "      <th>´PROVIOS</th>\n",
       "      <td>1</td>\n",
       "    </tr>\n",
       "  </tbody>\n",
       "</table>\n",
       "<p>3020 rows × 1 columns</p>\n",
       "</div>"
      ],
      "text/plain": [
       "            motive\n",
       ",ABORAL          1\n",
       "10487945         1\n",
       "24 . 27          3\n",
       "24 27            1\n",
       "24.27            2\n",
       "...            ...\n",
       "personal         1\n",
       "}                1\n",
       "´PERSONAL        4\n",
       "´PERTSONAL       1\n",
       "´PROVIOS         1\n",
       "\n",
       "[3020 rows x 1 columns]"
      ]
     },
     "execution_count": 60,
     "metadata": {},
     "output_type": "execute_result"
    }
   ],
   "source": [
    "motives.sort_index()"
   ]
  },
  {
   "cell_type": "code",
   "execution_count": 50,
   "metadata": {},
   "outputs": [
    {
     "data": {
      "text/plain": [
       "GARY DIAZ             1482\n",
       "GLORIA GUTIERREZ       536\n",
       "FERNANDO MORALES       437\n",
       "JUAN NAVARRO           316\n",
       "HENRY QUISPE           307\n",
       "                      ... \n",
       "GLORA GUJTIERREZ         1\n",
       "WALTERT SULCA            1\n",
       "GRERMAN TORRES           1\n",
       "PSTRICIA PIMENTEL        1\n",
       "ANTENOR RODRIGUIEZ       1\n",
       "Name: d_e, Length: 1645, dtype: int64"
      ]
     },
     "execution_count": 50,
     "metadata": {},
     "output_type": "execute_result"
    }
   ],
   "source": []
  },
  {
   "cell_type": "code",
   "execution_count": null,
   "metadata": {},
   "outputs": [],
   "source": []
  }
 ],
 "metadata": {
  "kernelspec": {
   "display_name": "Python 3",
   "language": "python",
   "name": "python3"
  },
  "language_info": {
   "codemirror_mode": {
    "name": "ipython",
    "version": 3
   },
   "file_extension": ".py",
   "mimetype": "text/x-python",
   "name": "python",
   "nbconvert_exporter": "python",
   "pygments_lexer": "ipython3",
   "version": "3.8.5"
  }
 },
 "nbformat": 4,
 "nbformat_minor": 4
}
