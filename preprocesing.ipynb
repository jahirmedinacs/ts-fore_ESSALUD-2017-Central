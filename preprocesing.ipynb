{
 "cells": [
  {
   "cell_type": "code",
   "execution_count": 1,
   "metadata": {},
   "outputs": [],
   "source": [
    "import pandas as pd\n",
    "import numpy as np\n",
    "from matplotlib import pyplot as plt"
   ]
  },
  {
   "cell_type": "code",
   "execution_count": 2,
   "metadata": {
    "scrolled": false
   },
   "outputs": [
    {
     "name": "stdout",
     "output_type": "stream",
     "text": [
      "total 0\r\n",
      "-rwxr-xr-x 1 jahirmedinacs jahirmedinacs  5093 Feb 28 12:01 2017_01_02.csv\r\n",
      "-rwxr-xr-x 1 jahirmedinacs jahirmedinacs  7316 Feb 28 12:01 2017_01_03.csv\r\n",
      "-rwxr-xr-x 1 jahirmedinacs jahirmedinacs  6591 Nov 26 22:13 2017_01_04.csv\r\n",
      "ls: write error: Broken pipe\r\n"
     ]
    }
   ],
   "source": [
    "import os\n",
    "import sys\n",
    "\n",
    "!ls ./data/cleaned/ -l | head -n 4\n",
    "\n",
    "import calendar"
   ]
  },
  {
   "cell_type": "code",
   "execution_count": 3,
   "metadata": {},
   "outputs": [],
   "source": [
    "_relative_path = \"./data/cleaned/\""
   ]
  },
  {
   "cell_type": "code",
   "execution_count": 30,
   "metadata": {
    "scrolled": false
   },
   "outputs": [],
   "source": [
    "files_names = [[None] * 31 for ii in range(12)]\n",
    "for ii in os.listdir(_relative_path):\n",
    "    indx = [int(jj) - 1 for jj in ii.split(\".\")[0].split(\"_\")[1:]]\n",
    "    if(len(indx)) < 2:\n",
    "        month = indx[0]\n",
    "        day = 0\n",
    "    else:\n",
    "        [month, day] = indx\n",
    "    files_names[month][day] = [_relative_path + ii, (month + 1, day + 1)]"
   ]
  },
  {
   "cell_type": "code",
   "execution_count": 31,
   "metadata": {},
   "outputs": [],
   "source": [
    "_temp = []\n",
    "for ii in files_names:\n",
    "    _temp += [jj for jj in ii if jj is not None]"
   ]
  },
  {
   "cell_type": "code",
   "execution_count": 62,
   "metadata": {
    "scrolled": false
   },
   "outputs": [],
   "source": [
    "_df_set = [[None] * 31 for ii in range(12)]\n",
    "multi_indx = []\n",
    "analytics = []\n",
    "_tmp_multi_indx = []\n",
    "\n",
    "for jj in files_names:\n",
    "    for ii in jj:\n",
    "        if ii is not None:\n",
    "            temp = pd.read_csv(ii[0], header=1, encoding ='latin1')\n",
    "\n",
    "            n_vist = temp[temp.columns[0]].values\n",
    "            n_month = [ii[1][0]] * len(n_vist)\n",
    "            n_day = [ii[1][1]] * len(n_vist)\n",
    "\n",
    "            analytics += [len(temp.columns)]\n",
    "            _tmp_multi_indx += [ii[1]]\n",
    "\n",
    "            multi_indx += list(zip(n_month, n_day, n_vist))\n",
    "            _df_set[ii[1][0] - 1][ii[1][1] - 1] = temp\n",
    "        else:\n",
    "            pass"
   ]
  },
  {
   "cell_type": "code",
   "execution_count": 63,
   "metadata": {},
   "outputs": [],
   "source": [
    "_tmp_idx = pd.MultiIndex.from_tuples(_tmp_multi_indx, names=['mes', 'dia'])"
   ]
  },
  {
   "cell_type": "code",
   "execution_count": 64,
   "metadata": {},
   "outputs": [
    {
     "data": {
      "text/plain": [
       "[<matplotlib.lines.Line2D at 0x7f567b4c6eb0>]"
      ]
     },
     "execution_count": 64,
     "metadata": {},
     "output_type": "execute_result"
    },
    {
     "data": {
      "image/png": "[encoded data removed]",
      "text/plain": [
       "<Figure size 432x288 with 1 Axes>"
      ]
     },
     "metadata": {
      "needs_background": "light"
     },
     "output_type": "display_data"
    }
   ],
   "source": [
    "plt.grid()\n",
    "plt.plot(analytics, '.r')"
   ]
  },
  {
   "cell_type": "code",
   "execution_count": 65,
   "metadata": {},
   "outputs": [],
   "source": [
    "analytics = pd.DataFrame(data=analytics, index=_tmp_idx, columns=[\"cols\"])"
   ]
  },
  {
   "cell_type": "code",
   "execution_count": 66,
   "metadata": {},
   "outputs": [
    {
     "data": {
      "text/html": [
       "<div>\n",
       "<style scoped>\n",
       "    .dataframe tbody tr th:only-of-type {\n",
       "        vertical-align: middle;\n",
       "    }\n",
       "\n",
       "    .dataframe tbody tr th {\n",
       "        vertical-align: top;\n",
       "    }\n",
       "\n",
       "    .dataframe thead th {\n",
       "        text-align: right;\n",
       "    }\n",
       "</style>\n",
       "<table border=\"1\" class=\"dataframe\">\n",
       "  <thead>\n",
       "    <tr style=\"text-align: right;\">\n",
       "      <th></th>\n",
       "      <th></th>\n",
       "      <th>cols</th>\n",
       "    </tr>\n",
       "    <tr>\n",
       "      <th>mes</th>\n",
       "      <th>dia</th>\n",
       "      <th></th>\n",
       "    </tr>\n",
       "  </thead>\n",
       "  <tbody>\n",
       "    <tr>\n",
       "      <th rowspan=\"2\" valign=\"top\">1</th>\n",
       "      <th>17</th>\n",
       "      <td>14</td>\n",
       "    </tr>\n",
       "    <tr>\n",
       "      <th>31</th>\n",
       "      <td>11</td>\n",
       "    </tr>\n",
       "    <tr>\n",
       "      <th rowspan=\"2\" valign=\"top\">2</th>\n",
       "      <th>9</th>\n",
       "      <td>11</td>\n",
       "    </tr>\n",
       "    <tr>\n",
       "      <th>21</th>\n",
       "      <td>11</td>\n",
       "    </tr>\n",
       "    <tr>\n",
       "      <th>6</th>\n",
       "      <th>16</th>\n",
       "      <td>13</td>\n",
       "    </tr>\n",
       "    <tr>\n",
       "      <th>8</th>\n",
       "      <th>18</th>\n",
       "      <td>11</td>\n",
       "    </tr>\n",
       "    <tr>\n",
       "      <th>9</th>\n",
       "      <th>27</th>\n",
       "      <td>12</td>\n",
       "    </tr>\n",
       "    <tr>\n",
       "      <th>11</th>\n",
       "      <th>24</th>\n",
       "      <td>12</td>\n",
       "    </tr>\n",
       "    <tr>\n",
       "      <th>12</th>\n",
       "      <th>4</th>\n",
       "      <td>12</td>\n",
       "    </tr>\n",
       "  </tbody>\n",
       "</table>\n",
       "</div>"
      ],
      "text/plain": [
       "         cols\n",
       "mes dia      \n",
       "1   17     14\n",
       "    31     11\n",
       "2   9      11\n",
       "    21     11\n",
       "6   16     13\n",
       "8   18     11\n",
       "9   27     12\n",
       "11  24     12\n",
       "12  4      12"
      ]
     },
     "execution_count": 66,
     "metadata": {},
     "output_type": "execute_result"
    }
   ],
   "source": [
    "analytics[analytics.cols > 10]"
   ]
  },
  {
   "cell_type": "code",
   "execution_count": 71,
   "metadata": {},
   "outputs": [],
   "source": [
    "manual_clean = []\n",
    "special_dates = (np.matrix(analytics[analytics.cols > 10].index.tolist()) -1).tolist()\n",
    "date_indx = list(zip(special_dates, range(len(special_dates))))\n",
    "for coords in special_dates:\n",
    "    manual_clean.append(_df_set[coords[0]][coords[1]])"
   ]
  },
  {
   "cell_type": "code",
   "execution_count": 73,
   "metadata": {},
   "outputs": [
    {
     "data": {
      "text/plain": [
       "[([0, 16], 0),\n",
       " ([0, 30], 1),\n",
       " ([1, 8], 2),\n",
       " ([1, 20], 3),\n",
       " ([5, 15], 4),\n",
       " ([7, 17], 5),\n",
       " ([8, 26], 6),\n",
       " ([10, 23], 7),\n",
       " ([11, 3], 8)]"
      ]
     },
     "execution_count": 73,
     "metadata": {},
     "output_type": "execute_result"
    }
   ],
   "source": [
    "date_indx"
   ]
  },
  {
   "cell_type": "code",
   "execution_count": 76,
   "metadata": {},
   "outputs": [],
   "source": [
    "current = manual_clean[0]"
   ]
  },
  {
   "cell_type": "code",
   "execution_count": 92,
   "metadata": {},
   "outputs": [
    {
     "data": {
      "text/plain": [
       "Unnamed: 10    75\n",
       "Unnamed: 11    75\n",
       "Unnamed: 12    75\n",
       "Unnamed: 13    74\n",
       "dtype: int64"
      ]
     },
     "execution_count": 92,
     "metadata": {},
     "output_type": "execute_result"
    }
   ],
   "source": [
    "current[current.columns[10:]].isna().sum()"
   ]
  },
  {
   "cell_type": "code",
   "execution_count": null,
   "metadata": {
    "scrolled": false
   },
   "outputs": [],
   "source": [
    "_mega_df = pd.concat(_df_set, sort=False)"
   ]
  },
  {
   "cell_type": "code",
   "execution_count": null,
   "metadata": {},
   "outputs": [],
   "source": [
    "special_multi = pd.MultiIndex.from_tuples(multi_indx, names=['mes', 'dia', 'visita_nro'])"
   ]
  },
  {
   "cell_type": "code",
   "execution_count": null,
   "metadata": {},
   "outputs": [],
   "source": [
    "data = pd.DataFrame(_mega_df.values, index=special_multi)"
   ]
  },
  {
   "cell_type": "code",
   "execution_count": null,
   "metadata": {},
   "outputs": [],
   "source": [
    "data"
   ]
  },
  {
   "cell_type": "code",
   "execution_count": 24,
   "metadata": {},
   "outputs": [
    {
     "data": {
      "text/plain": [
       "<function calendar.monthrange(year, month)>"
      ]
     },
     "execution_count": 24,
     "metadata": {},
     "output_type": "execute_result"
    }
   ],
   "source": []
  },
  {
   "cell_type": "code",
   "execution_count": null,
   "metadata": {},
   "outputs": [],
   "source": []
  }
 ],
 "metadata": {
  "kernelspec": {
   "display_name": "Python 3",
   "language": "python",
   "name": "python3"
  },
  "language_info": {
   "codemirror_mode": {
    "name": "ipython",
    "version": 3
   },
   "file_extension": ".py",
   "mimetype": "text/x-python",
   "name": "python",
   "nbconvert_exporter": "python",
   "pygments_lexer": "ipython3",
   "version": "3.8.1"
  }
 },
 "nbformat": 4,
 "nbformat_minor": 2
}
